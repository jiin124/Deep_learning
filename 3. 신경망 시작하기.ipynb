{
  "nbformat": 4,
  "nbformat_minor": 0,
  "metadata": {
    "colab": {
      "name": "2.1 신경망",
      "provenance": [],
      "collapsed_sections": [
        "XtnOLcjIbreL",
        "ACW8LEeKe1vZ",
        "68g298AJgZhv"
      ],
      "authorship_tag": "ABX9TyPDL2n3uwFrRm2qBZGaKN7E",
      "include_colab_link": true
    },
    "kernelspec": {
      "name": "python3",
      "display_name": "Python 3"
    },
    "language_info": {
      "name": "python"
    }
  },
  "cells": [
    {
      "cell_type": "markdown",
      "metadata": {
        "id": "view-in-github",
        "colab_type": "text"
      },
      "source": [
        "<a href=\"https://colab.research.google.com/github/jiin124/Deep_learning/blob/main/3.%20%EC%8B%A0%EA%B2%BD%EB%A7%9D%20%EC%8B%9C%EC%9E%91%ED%95%98%EA%B8%B0.ipynb\" target=\"_parent\"><img src=\"https://colab.research.google.com/assets/colab-badge.svg\" alt=\"Open In Colab\"/></a>"
      ]
    },
    {
      "cell_type": "code",
      "source": [
        "from keras.datasets import imdb\n",
        "\n",
        "(train_data, train_labels),(test_data,test_labels)=imdb.load_data(num_words=10000)"
      ],
      "metadata": {
        "id": "o4Sh4YgXeBXF",
        "colab": {
          "base_uri": "https://localhost:8080/"
        },
        "outputId": "bdde9604-f688-478d-f259-9323819cc2f2"
      },
      "execution_count": null,
      "outputs": [
        {
          "output_type": "stream",
          "name": "stdout",
          "text": [
            "Downloading data from https://storage.googleapis.com/tensorflow/tf-keras-datasets/imdb.npz\n",
            "17465344/17464789 [==============================] - 0s 0us/step\n",
            "17473536/17464789 [==============================] - 0s 0us/step\n"
          ]
        }
      ]
    },
    {
      "cell_type": "code",
      "source": [
        "train_data[0]"
      ],
      "metadata": {
        "colab": {
          "base_uri": "https://localhost:8080/"
        },
        "id": "BbBdc4JS_bL6",
        "outputId": "2d1c977b-ce7b-4259-b948-4a82dc9dc717"
      },
      "execution_count": null,
      "outputs": [
        {
          "output_type": "execute_result",
          "data": {
            "text/plain": [
              "[1,\n",
              " 14,\n",
              " 22,\n",
              " 16,\n",
              " 43,\n",
              " 530,\n",
              " 973,\n",
              " 1622,\n",
              " 1385,\n",
              " 65,\n",
              " 458,\n",
              " 4468,\n",
              " 66,\n",
              " 3941,\n",
              " 4,\n",
              " 173,\n",
              " 36,\n",
              " 256,\n",
              " 5,\n",
              " 25,\n",
              " 100,\n",
              " 43,\n",
              " 838,\n",
              " 112,\n",
              " 50,\n",
              " 670,\n",
              " 2,\n",
              " 9,\n",
              " 35,\n",
              " 480,\n",
              " 284,\n",
              " 5,\n",
              " 150,\n",
              " 4,\n",
              " 172,\n",
              " 112,\n",
              " 167,\n",
              " 2,\n",
              " 336,\n",
              " 385,\n",
              " 39,\n",
              " 4,\n",
              " 172,\n",
              " 4536,\n",
              " 1111,\n",
              " 17,\n",
              " 546,\n",
              " 38,\n",
              " 13,\n",
              " 447,\n",
              " 4,\n",
              " 192,\n",
              " 50,\n",
              " 16,\n",
              " 6,\n",
              " 147,\n",
              " 2025,\n",
              " 19,\n",
              " 14,\n",
              " 22,\n",
              " 4,\n",
              " 1920,\n",
              " 4613,\n",
              " 469,\n",
              " 4,\n",
              " 22,\n",
              " 71,\n",
              " 87,\n",
              " 12,\n",
              " 16,\n",
              " 43,\n",
              " 530,\n",
              " 38,\n",
              " 76,\n",
              " 15,\n",
              " 13,\n",
              " 1247,\n",
              " 4,\n",
              " 22,\n",
              " 17,\n",
              " 515,\n",
              " 17,\n",
              " 12,\n",
              " 16,\n",
              " 626,\n",
              " 18,\n",
              " 2,\n",
              " 5,\n",
              " 62,\n",
              " 386,\n",
              " 12,\n",
              " 8,\n",
              " 316,\n",
              " 8,\n",
              " 106,\n",
              " 5,\n",
              " 4,\n",
              " 2223,\n",
              " 5244,\n",
              " 16,\n",
              " 480,\n",
              " 66,\n",
              " 3785,\n",
              " 33,\n",
              " 4,\n",
              " 130,\n",
              " 12,\n",
              " 16,\n",
              " 38,\n",
              " 619,\n",
              " 5,\n",
              " 25,\n",
              " 124,\n",
              " 51,\n",
              " 36,\n",
              " 135,\n",
              " 48,\n",
              " 25,\n",
              " 1415,\n",
              " 33,\n",
              " 6,\n",
              " 22,\n",
              " 12,\n",
              " 215,\n",
              " 28,\n",
              " 77,\n",
              " 52,\n",
              " 5,\n",
              " 14,\n",
              " 407,\n",
              " 16,\n",
              " 82,\n",
              " 2,\n",
              " 8,\n",
              " 4,\n",
              " 107,\n",
              " 117,\n",
              " 5952,\n",
              " 15,\n",
              " 256,\n",
              " 4,\n",
              " 2,\n",
              " 7,\n",
              " 3766,\n",
              " 5,\n",
              " 723,\n",
              " 36,\n",
              " 71,\n",
              " 43,\n",
              " 530,\n",
              " 476,\n",
              " 26,\n",
              " 400,\n",
              " 317,\n",
              " 46,\n",
              " 7,\n",
              " 4,\n",
              " 2,\n",
              " 1029,\n",
              " 13,\n",
              " 104,\n",
              " 88,\n",
              " 4,\n",
              " 381,\n",
              " 15,\n",
              " 297,\n",
              " 98,\n",
              " 32,\n",
              " 2071,\n",
              " 56,\n",
              " 26,\n",
              " 141,\n",
              " 6,\n",
              " 194,\n",
              " 7486,\n",
              " 18,\n",
              " 4,\n",
              " 226,\n",
              " 22,\n",
              " 21,\n",
              " 134,\n",
              " 476,\n",
              " 26,\n",
              " 480,\n",
              " 5,\n",
              " 144,\n",
              " 30,\n",
              " 5535,\n",
              " 18,\n",
              " 51,\n",
              " 36,\n",
              " 28,\n",
              " 224,\n",
              " 92,\n",
              " 25,\n",
              " 104,\n",
              " 4,\n",
              " 226,\n",
              " 65,\n",
              " 16,\n",
              " 38,\n",
              " 1334,\n",
              " 88,\n",
              " 12,\n",
              " 16,\n",
              " 283,\n",
              " 5,\n",
              " 16,\n",
              " 4472,\n",
              " 113,\n",
              " 103,\n",
              " 32,\n",
              " 15,\n",
              " 16,\n",
              " 5345,\n",
              " 19,\n",
              " 178,\n",
              " 32]"
            ]
          },
          "metadata": {},
          "execution_count": 5
        }
      ]
    },
    {
      "cell_type": "code",
      "source": [
        "train_labels[0]"
      ],
      "metadata": {
        "colab": {
          "base_uri": "https://localhost:8080/"
        },
        "id": "3piwvWCSC5IR",
        "outputId": "0ab545ee-f801-46ba-a2ab-50d23d72247a"
      },
      "execution_count": null,
      "outputs": [
        {
          "output_type": "execute_result",
          "data": {
            "text/plain": [
              "1"
            ]
          },
          "metadata": {},
          "execution_count": 6
        }
      ]
    },
    {
      "cell_type": "code",
      "source": [
        "max([max(sequence) for sequence in train_data])"
      ],
      "metadata": {
        "colab": {
          "base_uri": "https://localhost:8080/"
        },
        "id": "e5a57_idC6Ki",
        "outputId": "abe72434-4fdc-4738-e039-d447aca4198c"
      },
      "execution_count": null,
      "outputs": [
        {
          "output_type": "execute_result",
          "data": {
            "text/plain": [
              "9999"
            ]
          },
          "metadata": {},
          "execution_count": 7
        }
      ]
    },
    {
      "cell_type": "code",
      "source": [
        "word_index=imdb.get_word_index()#word_index는 단어와 정수 인덱스를 매핑한 딕셔너리\n",
        "\n",
        "reverse_word_index=dict(\n",
        "    [(value,key) for (key,value) in word_index.items()]\n",
        ")\n",
        "#정수와 인덱스와 단어를 매핑하도록 뒤집는다.\n",
        "\n",
        "decoded_review=' '.join(\n",
        "    [reverse_word_index.get(i-3,'?') for i in train_data[0]]\n",
        ")\n",
        "#리뷰를 디코딩 0,1,2는 패딩, 문서시작 사전에 없음을 위한 인덱스이므로 3을 뺀다."
      ],
      "metadata": {
        "colab": {
          "base_uri": "https://localhost:8080/"
        },
        "id": "OeUdoKirDBXL",
        "outputId": "c1992a56-b2c8-438c-d274-fe104dc72d55"
      },
      "execution_count": null,
      "outputs": [
        {
          "output_type": "stream",
          "name": "stdout",
          "text": [
            "Downloading data from https://storage.googleapis.com/tensorflow/tf-keras-datasets/imdb_word_index.json\n",
            "1646592/1641221 [==============================] - 0s 0us/step\n",
            "1654784/1641221 [==============================] - 0s 0us/step\n"
          ]
        }
      ]
    },
    {
      "cell_type": "code",
      "source": [
        "decoded_review"
      ],
      "metadata": {
        "colab": {
          "base_uri": "https://localhost:8080/",
          "height": 127
        },
        "id": "HRN9ubQrIBn0",
        "outputId": "e1bcd2e1-9e3e-4d4a-b3e6-c907c88818b9"
      },
      "execution_count": null,
      "outputs": [
        {
          "output_type": "execute_result",
          "data": {
            "application/vnd.google.colaboratory.intrinsic+json": {
              "type": "string"
            },
            "text/plain": [
              "\"? this film was just brilliant casting location scenery story direction everyone's really suited the part they played and you could just imagine being there robert ? is an amazing actor and now the same being director ? father came from the same scottish island as myself so i loved the fact there was a real connection with this film the witty remarks throughout the film were great it was just brilliant so much that i bought the film as soon as it was released for ? and would recommend it to everyone to watch and the fly fishing was amazing really cried at the end it was so sad and you know what they say if you cry at a film it must have been good and this definitely was also ? to the two little boy's that played the ? of norman and paul they were just brilliant children are often left out of the ? list i think because the stars that play them all grown up are such a big profile for the whole film but these children are amazing and should be praised for what they have done don't you think the whole story was so lovely because it was true and was someone's life after all that was shared with us all\""
            ]
          },
          "metadata": {},
          "execution_count": 10
        }
      ]
    },
    {
      "cell_type": "markdown",
      "source": [
        "## 데이터 준비"
      ],
      "metadata": {
        "id": "IUVt6xlCE7Dv"
      }
    },
    {
      "cell_type": "code",
      "source": [
        "import numpy as np\n",
        "\n",
        "def vectorize_sequences(sequences,dimension=10000):\n",
        "  results=np.zeros((len(sequences),dimension))\n",
        "  for i,sequence in enumerate(sequences): \n",
        "    results[i,sequence]=1.\n",
        "  return results\n",
        "\n",
        "x_train=vectorize_sequences(train_data)#훈련데이터를 벡터로 변환\n",
        "x_test=vectorize_sequences(test_data)#테스트 데이터를 벡터로 변환"
      ],
      "metadata": {
        "id": "JDSoa_syEwC5"
      },
      "execution_count": null,
      "outputs": []
    },
    {
      "cell_type": "code",
      "source": [
        "x_train[0]"
      ],
      "metadata": {
        "colab": {
          "base_uri": "https://localhost:8080/"
        },
        "id": "9by_CJGFIjyu",
        "outputId": "a0964743-64ea-4245-91b9-b139bb0b2a41"
      },
      "execution_count": null,
      "outputs": [
        {
          "output_type": "execute_result",
          "data": {
            "text/plain": [
              "array([0., 1., 1., ..., 0., 0., 0.])"
            ]
          },
          "metadata": {},
          "execution_count": 12
        }
      ]
    },
    {
      "cell_type": "code",
      "source": [
        "y_train=np.asarray(train_labels).astype('float32')\n",
        "y_test=np.asarray(test_labels).astype('float32')"
      ],
      "metadata": {
        "id": "TtKTuuKUInUc"
      },
      "execution_count": null,
      "outputs": []
    },
    {
      "cell_type": "markdown",
      "source": [
        "## 신경망 모델 만들기"
      ],
      "metadata": {
        "id": "4WQhob2nO9Ua"
      }
    },
    {
      "cell_type": "code",
      "source": [
        "from keras import models\n",
        "from keras import layers\n",
        "\n",
        "model=models.Sequential()\n",
        "model.add(layers.Dense(16,activation='relu',input_shape=(10000,)))\n",
        "model.add(layers.Dense(16,activation='relu'))\n",
        "model.add(layers.Dense(1,activation='sigmoid'))"
      ],
      "metadata": {
        "id": "ODZy_acAIvve"
      },
      "execution_count": null,
      "outputs": []
    },
    {
      "cell_type": "code",
      "source": [
        "model.compile(optimizer='rmsprop',\n",
        "              loss='binary_crossentropy',\n",
        "              metrics=['accuracy'])"
      ],
      "metadata": {
        "id": "8-exrE9dMrCF"
      },
      "execution_count": null,
      "outputs": []
    },
    {
      "cell_type": "markdown",
      "source": [
        "## 훈련검증"
      ],
      "metadata": {
        "id": "a5oRr1jRO_QI"
      }
    },
    {
      "cell_type": "code",
      "source": [
        "#검증 세트 만들기\n",
        "x_val=x_train[:10000]\n",
        "partial_x_train=x_train[10000:]\n",
        "y_val=y_train[:10000]\n",
        "partial_y_train=y_train[10000:]"
      ],
      "metadata": {
        "id": "uSdjzwhtOWE8"
      },
      "execution_count": null,
      "outputs": []
    },
    {
      "cell_type": "code",
      "source": [
        "model.compile(optimizer='rmsprop',\n",
        "              loss='binary_crossentropy',\n",
        "              metrics=['acc'])\n",
        "\n",
        "history=model.fit(partial_x_train,\n",
        "                  partial_y_train,\n",
        "                  epochs=20,\n",
        "                  batch_size=512,\n",
        "                  validation_data=(x_val,y_val))"
      ],
      "metadata": {
        "colab": {
          "base_uri": "https://localhost:8080/"
        },
        "id": "WR8Jo-w_PKPj",
        "outputId": "dca22917-9ec6-451d-f5f2-bd0be88774e0"
      },
      "execution_count": null,
      "outputs": [
        {
          "output_type": "stream",
          "name": "stdout",
          "text": [
            "Epoch 1/20\n",
            "30/30 [==============================] - 3s 68ms/step - loss: 0.5303 - acc: 0.7837 - val_loss: 0.4001 - val_acc: 0.8712\n",
            "Epoch 2/20\n",
            "30/30 [==============================] - 1s 48ms/step - loss: 0.3220 - acc: 0.9014 - val_loss: 0.3127 - val_acc: 0.8842\n",
            "Epoch 3/20\n",
            "30/30 [==============================] - 1s 49ms/step - loss: 0.2335 - acc: 0.9241 - val_loss: 0.3035 - val_acc: 0.8779\n",
            "Epoch 4/20\n",
            "30/30 [==============================] - 1s 49ms/step - loss: 0.1876 - acc: 0.9388 - val_loss: 0.2737 - val_acc: 0.8922\n",
            "Epoch 5/20\n",
            "30/30 [==============================] - 1s 45ms/step - loss: 0.1504 - acc: 0.9512 - val_loss: 0.2794 - val_acc: 0.8883\n",
            "Epoch 6/20\n",
            "30/30 [==============================] - 1s 38ms/step - loss: 0.1260 - acc: 0.9609 - val_loss: 0.3068 - val_acc: 0.8820\n",
            "Epoch 7/20\n",
            "30/30 [==============================] - 1s 45ms/step - loss: 0.1026 - acc: 0.9691 - val_loss: 0.3121 - val_acc: 0.8845\n",
            "Epoch 8/20\n",
            "30/30 [==============================] - 1s 49ms/step - loss: 0.0883 - acc: 0.9745 - val_loss: 0.3262 - val_acc: 0.8836\n",
            "Epoch 9/20\n",
            "30/30 [==============================] - 2s 60ms/step - loss: 0.0716 - acc: 0.9807 - val_loss: 0.3489 - val_acc: 0.8776\n",
            "Epoch 10/20\n",
            "30/30 [==============================] - 1s 40ms/step - loss: 0.0614 - acc: 0.9834 - val_loss: 0.3712 - val_acc: 0.8771\n",
            "Epoch 11/20\n",
            "30/30 [==============================] - 1s 48ms/step - loss: 0.0485 - acc: 0.9881 - val_loss: 0.3949 - val_acc: 0.8765\n",
            "Epoch 12/20\n",
            "30/30 [==============================] - 2s 59ms/step - loss: 0.0401 - acc: 0.9911 - val_loss: 0.4569 - val_acc: 0.8711\n",
            "Epoch 13/20\n",
            "30/30 [==============================] - 1s 48ms/step - loss: 0.0312 - acc: 0.9940 - val_loss: 0.4641 - val_acc: 0.8721\n",
            "Epoch 14/20\n",
            "30/30 [==============================] - 1s 48ms/step - loss: 0.0259 - acc: 0.9953 - val_loss: 0.4994 - val_acc: 0.8727\n",
            "Epoch 15/20\n",
            "30/30 [==============================] - 1s 48ms/step - loss: 0.0212 - acc: 0.9955 - val_loss: 0.5562 - val_acc: 0.8656\n",
            "Epoch 16/20\n",
            "30/30 [==============================] - 1s 50ms/step - loss: 0.0169 - acc: 0.9975 - val_loss: 0.5682 - val_acc: 0.8699\n",
            "Epoch 17/20\n",
            "30/30 [==============================] - 1s 48ms/step - loss: 0.0142 - acc: 0.9980 - val_loss: 0.6085 - val_acc: 0.8685\n",
            "Epoch 18/20\n",
            "30/30 [==============================] - 1s 48ms/step - loss: 0.0098 - acc: 0.9991 - val_loss: 0.6388 - val_acc: 0.8685\n",
            "Epoch 19/20\n",
            "30/30 [==============================] - 2s 59ms/step - loss: 0.0102 - acc: 0.9984 - val_loss: 0.6725 - val_acc: 0.8673\n",
            "Epoch 20/20\n",
            "30/30 [==============================] - 2s 59ms/step - loss: 0.0048 - acc: 0.9998 - val_loss: 0.7060 - val_acc: 0.8655\n"
          ]
        }
      ]
    },
    {
      "cell_type": "code",
      "source": [
        "history_dict=history.history\n",
        "history_dict.keys()\n"
      ],
      "metadata": {
        "colab": {
          "base_uri": "https://localhost:8080/"
        },
        "id": "QcORm-9KP_zd",
        "outputId": "c07a6a57-a822-4c35-809a-ab7005232709"
      },
      "execution_count": null,
      "outputs": [
        {
          "output_type": "execute_result",
          "data": {
            "text/plain": [
              "dict_keys(['loss', 'acc', 'val_loss', 'val_acc'])"
            ]
          },
          "metadata": {},
          "execution_count": 19
        }
      ]
    },
    {
      "cell_type": "code",
      "source": [
        "import matplotlib.pyplot as plt\n",
        "\n",
        "history_dict=history.history\n",
        "loss=history_dict['loss']\n",
        "val_loss=history_dict['val_loss']\n",
        "\n",
        "epochs=range(1,len(loss)+1)\n",
        "\n",
        "plt.plot(epochs,loss,'bo',label='Training loss')#bo는 파란색 점\n",
        "plt.plot(epochs,val_loss,'b',label='validation loss')#b는 파란색 실선\n",
        "plt.title('Training and validation loss')\n",
        "plt.xlabel('Epochs')\n",
        "plt.ylabel('Loss')\n",
        "plt.legend()\n",
        "\n",
        "plt.show()"
      ],
      "metadata": {
        "colab": {
          "base_uri": "https://localhost:8080/",
          "height": 295
        },
        "id": "dG5-0uyzQQ9g",
        "outputId": "3ae4e452-563e-49ec-8c64-d61e2a22172d"
      },
      "execution_count": null,
      "outputs": [
        {
          "output_type": "display_data",
          "data": {
            "image/png": "[encoded data removed]",
            "text/plain": [
              "<Figure size 432x288 with 1 Axes>"
            ]
          },
          "metadata": {
            "needs_background": "light"
          }
        }
      ]
    },
    {
      "cell_type": "code",
      "source": [
        "plt.clf()\n",
        "acc=history_dict['acc']\n",
        "val_acc=history_dict['val_acc']\n",
        "\n",
        "plt.plot(epochs,acc,'bo',label='Training acc')\n",
        "plt.plot(epochs,val_acc,'b',label='Validation acc')\n",
        "plt.title('Training and validation accuracy')\n",
        "plt.xlabel('Epochs')\n",
        "plt.ylabel('Accuracy')\n",
        "plt.legend()\n",
        "plt.show()"
      ],
      "metadata": {
        "colab": {
          "base_uri": "https://localhost:8080/",
          "height": 295
        },
        "id": "6MqQz8lyRuj0",
        "outputId": "0d91f734-9dc9-41df-f2ba-ccebeb65b130"
      },
      "execution_count": null,
      "outputs": [
        {
          "output_type": "display_data",
          "data": {
            "image/png": "[encoded data removed]",
            "text/plain": [
              "<Figure size 432x288 with 1 Axes>"
            ]
          },
          "metadata": {
            "needs_background": "light"
          }
        }
      ]
    },
    {
      "cell_type": "code",
      "source": [
        "#모델을 처음부터 다시 훈련\n",
        "model=models.Sequential()\n",
        "model.add(layers.Dense(16,activation='relu',input_shape=(10000,)))\n",
        "model.add(layers.Dense(16,activation='relu'))\n",
        "model.add(layers.Dense(1,activation='sigmoid'))\n",
        "\n",
        "model.compile(optimizer='rmsprop',\n",
        "              loss='binary_crossentropy',\n",
        "              metrics=['accuracy'])\n",
        "\n",
        "model.fit(x_train,y_train,epochs=4,batch_size=512)\n",
        "results=model.evaluate(x_test,y_test)"
      ],
      "metadata": {
        "colab": {
          "base_uri": "https://localhost:8080/"
        },
        "id": "XTpBR5usS2dd",
        "outputId": "40d2fe25-3c85-4e8c-b920-333a6e784f64"
      },
      "execution_count": null,
      "outputs": [
        {
          "output_type": "stream",
          "name": "stdout",
          "text": [
            "Epoch 1/4\n",
            "49/49 [==============================] - 3s 36ms/step - loss: 0.4807 - accuracy: 0.8182\n",
            "Epoch 2/4\n",
            "49/49 [==============================] - 2s 36ms/step - loss: 0.2747 - accuracy: 0.9078\n",
            "Epoch 3/4\n",
            "49/49 [==============================] - 2s 36ms/step - loss: 0.2082 - accuracy: 0.9278\n",
            "Epoch 4/4\n",
            "49/49 [==============================] - 2s 36ms/step - loss: 0.1736 - accuracy: 0.9391\n",
            "782/782 [==============================] - 2s 2ms/step - loss: 0.2884 - accuracy: 0.8845\n"
          ]
        }
      ]
    },
    {
      "cell_type": "code",
      "source": [
        "results"
      ],
      "metadata": {
        "colab": {
          "base_uri": "https://localhost:8080/"
        },
        "id": "VVVy6z3yVj_v",
        "outputId": "7751930e-066b-4851-f9ff-5a009f62bd49"
      },
      "execution_count": null,
      "outputs": [
        {
          "output_type": "execute_result",
          "data": {
            "text/plain": [
              "[0.28837263584136963, 0.8844799995422363]"
            ]
          },
          "metadata": {},
          "execution_count": 25
        }
      ]
    },
    {
      "cell_type": "code",
      "source": [
        "model.predict(x_test)"
      ],
      "metadata": {
        "colab": {
          "base_uri": "https://localhost:8080/"
        },
        "id": "X7awBramYf_d",
        "outputId": "76803d7c-c2d8-4b40-afb9-e3f49da0ffde"
      },
      "execution_count": null,
      "outputs": [
        {
          "output_type": "execute_result",
          "data": {
            "text/plain": [
              "array([[0.19566628],\n",
              "       [0.9987292 ],\n",
              "       [0.8201591 ],\n",
              "       ...,\n",
              "       [0.11047608],\n",
              "       [0.09462848],\n",
              "       [0.4627427 ]], dtype=float32)"
            ]
          },
          "metadata": {},
          "execution_count": 26
        }
      ]
    },
    {
      "cell_type": "markdown",
      "source": [
        "### 3개의 은닉층 사용해보기"
      ],
      "metadata": {
        "id": "XtnOLcjIbreL"
      }
    },
    {
      "cell_type": "code",
      "source": [
        "model=models.Sequential()\n",
        "model.add(layers.Dense(16,activation='relu',input_shape=(10000,)))\n",
        "model.add(layers.Dense(16,activation='relu'))\n",
        "model.add(layers.Dense(16,activation='relu'))\n",
        "model.add(layers.Dense(1,activation='sigmoid'))\n",
        "\n",
        "model.compile(optimizer='rmsprop',\n",
        "              loss='binary_crossentropy',\n",
        "              metrics=['accuracy'])\n",
        "\n",
        "model.fit(x_train,y_train,epochs=20,batch_size=512)\n",
        "results=model.evaluate(x_test,y_test)"
      ],
      "metadata": {
        "colab": {
          "base_uri": "https://localhost:8080/"
        },
        "id": "5qm6iSC9Y4QT",
        "outputId": "649a822e-8206-4834-c650-0eae2d7de717"
      },
      "execution_count": null,
      "outputs": [
        {
          "output_type": "stream",
          "name": "stdout",
          "text": [
            "Epoch 1/20\n",
            "49/49 [==============================] - 2s 32ms/step - loss: 0.4682 - accuracy: 0.8141\n",
            "Epoch 2/20\n",
            "49/49 [==============================] - 2s 37ms/step - loss: 0.2512 - accuracy: 0.9092\n",
            "Epoch 3/20\n",
            "49/49 [==============================] - 2s 37ms/step - loss: 0.1928 - accuracy: 0.9295\n",
            "Epoch 4/20\n",
            "49/49 [==============================] - 2s 38ms/step - loss: 0.1606 - accuracy: 0.9415\n",
            "Epoch 5/20\n",
            "49/49 [==============================] - 2s 37ms/step - loss: 0.1429 - accuracy: 0.9498\n",
            "Epoch 6/20\n",
            "49/49 [==============================] - 2s 37ms/step - loss: 0.1199 - accuracy: 0.9580\n",
            "Epoch 7/20\n",
            "49/49 [==============================] - 2s 37ms/step - loss: 0.1096 - accuracy: 0.9625\n",
            "Epoch 8/20\n",
            "49/49 [==============================] - 2s 36ms/step - loss: 0.0947 - accuracy: 0.9686\n",
            "Epoch 9/20\n",
            "49/49 [==============================] - 1s 30ms/step - loss: 0.0801 - accuracy: 0.9738\n",
            "Epoch 10/20\n",
            "49/49 [==============================] - 1s 29ms/step - loss: 0.0688 - accuracy: 0.9786\n",
            "Epoch 11/20\n",
            "49/49 [==============================] - 2s 37ms/step - loss: 0.0562 - accuracy: 0.9831\n",
            "Epoch 12/20\n",
            "49/49 [==============================] - 2s 37ms/step - loss: 0.0516 - accuracy: 0.9837\n",
            "Epoch 13/20\n",
            "49/49 [==============================] - 2s 37ms/step - loss: 0.0408 - accuracy: 0.9878\n",
            "Epoch 14/20\n",
            "49/49 [==============================] - 2s 33ms/step - loss: 0.0321 - accuracy: 0.9908\n",
            "Epoch 15/20\n",
            "49/49 [==============================] - 2s 36ms/step - loss: 0.0259 - accuracy: 0.9927\n",
            "Epoch 16/20\n",
            "49/49 [==============================] - 2s 37ms/step - loss: 0.0252 - accuracy: 0.9929\n",
            "Epoch 17/20\n",
            "49/49 [==============================] - 2s 36ms/step - loss: 0.0150 - accuracy: 0.9959\n",
            "Epoch 18/20\n",
            "49/49 [==============================] - 2s 37ms/step - loss: 0.0161 - accuracy: 0.9955\n",
            "Epoch 19/20\n",
            "49/49 [==============================] - 2s 37ms/step - loss: 0.0115 - accuracy: 0.9970\n",
            "Epoch 20/20\n",
            "49/49 [==============================] - 2s 37ms/step - loss: 0.0160 - accuracy: 0.9959\n",
            "782/782 [==============================] - 2s 3ms/step - loss: 0.9145 - accuracy: 0.8479\n"
          ]
        }
      ]
    },
    {
      "cell_type": "code",
      "source": [
        "results"
      ],
      "metadata": {
        "colab": {
          "base_uri": "https://localhost:8080/"
        },
        "id": "4mdFwGUhcPHZ",
        "outputId": "1d74bf8a-7bb3-4904-c34b-3709b5e2b739"
      },
      "execution_count": null,
      "outputs": [
        {
          "output_type": "execute_result",
          "data": {
            "text/plain": [
              "[0.3076868951320648, 0.8795599937438965]"
            ]
          },
          "metadata": {},
          "execution_count": 32
        }
      ]
    },
    {
      "cell_type": "markdown",
      "source": [
        "은닉층을 늘렸더니 성능이 더 떨어짐 \n"
      ],
      "metadata": {
        "id": "nxU-i1Azcpck"
      }
    },
    {
      "cell_type": "code",
      "source": [
        ""
      ],
      "metadata": {
        "id": "MawCWD7qlWgH"
      },
      "execution_count": null,
      "outputs": []
    },
    {
      "cell_type": "markdown",
      "source": [
        "### 손실함수 mse 사용"
      ],
      "metadata": {
        "id": "ACW8LEeKe1vZ"
      }
    },
    {
      "cell_type": "code",
      "source": [
        "#모델을 처음부터 다시 훈련\n",
        "model=models.Sequential()\n",
        "model.add(layers.Dense(16,activation='relu',input_shape=(10000,)))\n",
        "model.add(layers.Dense(16,activation='relu'))\n",
        "model.add(layers.Dense(1,activation='sigmoid'))\n",
        "\n",
        "model.compile(optimizer='rmsprop',\n",
        "              loss='mse',\n",
        "              metrics=['accuracy'])\n",
        "\n",
        "model.fit(x_train,y_train,epochs=4,batch_size=512)\n",
        "results=model.evaluate(x_test,y_test)"
      ],
      "metadata": {
        "colab": {
          "base_uri": "https://localhost:8080/"
        },
        "id": "bS0hzcQEcoPE",
        "outputId": "e477d9b7-3231-4491-8457-884355f74398"
      },
      "execution_count": null,
      "outputs": [
        {
          "output_type": "stream",
          "name": "stdout",
          "text": [
            "Epoch 1/4\n",
            "49/49 [==============================] - 2s 37ms/step - loss: 0.1395 - accuracy: 0.8258\n",
            "Epoch 2/4\n",
            "49/49 [==============================] - 2s 36ms/step - loss: 0.0756 - accuracy: 0.9094\n",
            "Epoch 3/4\n",
            "49/49 [==============================] - 2s 33ms/step - loss: 0.0579 - accuracy: 0.9308\n",
            "Epoch 4/4\n",
            "49/49 [==============================] - 2s 33ms/step - loss: 0.0476 - accuracy: 0.9444\n",
            "782/782 [==============================] - 2s 2ms/step - loss: 0.0873 - accuracy: 0.8809\n"
          ]
        }
      ]
    },
    {
      "cell_type": "code",
      "source": [
        "results"
      ],
      "metadata": {
        "colab": {
          "base_uri": "https://localhost:8080/"
        },
        "id": "4dZUSTKfe4sb",
        "outputId": "a13ddc3f-3ca5-4892-de3b-873951360237"
      },
      "execution_count": null,
      "outputs": [
        {
          "output_type": "execute_result",
          "data": {
            "text/plain": [
              "[0.08726546168327332, 0.8808799982070923]"
            ]
          },
          "metadata": {},
          "execution_count": 35
        }
      ]
    },
    {
      "cell_type": "markdown",
      "source": [
        "아주쪽금 떨어짐"
      ],
      "metadata": {
        "id": "kP0U8KZyfSem"
      }
    },
    {
      "cell_type": "markdown",
      "source": [
        "### tanh 활성화 함수 사용"
      ],
      "metadata": {
        "id": "68g298AJgZhv"
      }
    },
    {
      "cell_type": "code",
      "source": [
        "#모델을 처음부터 다시 훈련\n",
        "model=models.Sequential()\n",
        "model.add(layers.Dense(16,activation='tanh',input_shape=(10000,)))\n",
        "model.add(layers.Dense(16,activation='tanh'))\n",
        "model.add(layers.Dense(1,activation='sigmoid'))\n",
        "\n",
        "model.compile(optimizer='rmsprop',\n",
        "              loss='mse',\n",
        "              metrics=['accuracy'])\n",
        "\n",
        "model.fit(x_train,y_train,epochs=4,batch_size=512)\n",
        "results=model.evaluate(x_test,y_test)"
      ],
      "metadata": {
        "colab": {
          "base_uri": "https://localhost:8080/"
        },
        "id": "r7F9F6e1gH5E",
        "outputId": "13f3c45a-83e6-41a6-aa16-22e853c06c8f"
      },
      "execution_count": null,
      "outputs": [
        {
          "output_type": "stream",
          "name": "stdout",
          "text": [
            "Epoch 1/4\n",
            "49/49 [==============================] - 2s 37ms/step - loss: 0.1369 - accuracy: 0.8306\n",
            "Epoch 2/4\n",
            "49/49 [==============================] - 2s 36ms/step - loss: 0.0693 - accuracy: 0.9160\n",
            "Epoch 3/4\n",
            "49/49 [==============================] - 2s 36ms/step - loss: 0.0507 - accuracy: 0.9366\n",
            "Epoch 4/4\n",
            "49/49 [==============================] - 2s 36ms/step - loss: 0.0406 - accuracy: 0.9498\n",
            "782/782 [==============================] - 2s 2ms/step - loss: 0.0953 - accuracy: 0.8750\n"
          ]
        }
      ]
    },
    {
      "cell_type": "code",
      "source": [
        "results"
      ],
      "metadata": {
        "colab": {
          "base_uri": "https://localhost:8080/"
        },
        "id": "f1a6JOllgedo",
        "outputId": "1f5a135d-3331-48f8-8c0c-a934c658b03c"
      },
      "execution_count": null,
      "outputs": [
        {
          "output_type": "execute_result",
          "data": {
            "text/plain": [
              "[0.09534069150686264, 0.8749600052833557]"
            ]
          },
          "metadata": {},
          "execution_count": 39
        }
      ]
    },
    {
      "cell_type": "code",
      "source": [
        ""
      ],
      "metadata": {
        "id": "3Hal9OpYg1bA"
      },
      "execution_count": null,
      "outputs": []
    },
    {
      "cell_type": "markdown",
      "source": [
        "# 뉴스 기사 분류 : 다중 분류 문제"
      ],
      "metadata": {
        "id": "KTdTfQt3lX2Z"
      }
    },
    {
      "cell_type": "code",
      "source": [
        "from keras.datasets import reuters\n",
        "\n",
        "(train_data,train_labels),(test_data,test_labels)=reuters.load_data(\n",
        "    num_words=10000\n",
        ")"
      ],
      "metadata": {
        "colab": {
          "base_uri": "https://localhost:8080/"
        },
        "id": "BmllnIMTlfCz",
        "outputId": "1b36135f-29a6-4ee9-be25-5784d24ed70a"
      },
      "execution_count": null,
      "outputs": [
        {
          "output_type": "stream",
          "name": "stdout",
          "text": [
            "Downloading data from https://storage.googleapis.com/tensorflow/tf-keras-datasets/reuters.npz\n",
            "2113536/2110848 [==============================] - 0s 0us/step\n",
            "2121728/2110848 [==============================] - 0s 0us/step\n"
          ]
        }
      ]
    },
    {
      "cell_type": "code",
      "source": [
        "len(train_data)"
      ],
      "metadata": {
        "colab": {
          "base_uri": "https://localhost:8080/"
        },
        "id": "dRZ3V_vso6MA",
        "outputId": "8cb0618b-43ec-48e7-aaed-85dcd73bcdc8"
      },
      "execution_count": null,
      "outputs": [
        {
          "output_type": "execute_result",
          "data": {
            "text/plain": [
              "8982"
            ]
          },
          "metadata": {},
          "execution_count": 2
        }
      ]
    },
    {
      "cell_type": "code",
      "source": [
        "len(test_data)"
      ],
      "metadata": {
        "colab": {
          "base_uri": "https://localhost:8080/"
        },
        "id": "mK9Z9goDo9X6",
        "outputId": "10a5870d-26bf-4e86-80db-560fb2788f3c"
      },
      "execution_count": null,
      "outputs": [
        {
          "output_type": "execute_result",
          "data": {
            "text/plain": [
              "2246"
            ]
          },
          "metadata": {},
          "execution_count": 3
        }
      ]
    },
    {
      "cell_type": "code",
      "source": [
        "len(train_labels)"
      ],
      "metadata": {
        "colab": {
          "base_uri": "https://localhost:8080/"
        },
        "id": "DpV4cr4Ko9aO",
        "outputId": "b362523a-3ce2-4987-f98f-fe4dacb852e6"
      },
      "execution_count": null,
      "outputs": [
        {
          "output_type": "execute_result",
          "data": {
            "text/plain": [
              "8982"
            ]
          },
          "metadata": {},
          "execution_count": 4
        }
      ]
    },
    {
      "cell_type": "markdown",
      "source": [
        "## 데이터 준비"
      ],
      "metadata": {
        "id": "_90dtf6hl88F"
      }
    },
    {
      "cell_type": "code",
      "source": [
        "#데이터 인코딩하기\n",
        "\n",
        "import numpy as np\n",
        "\n",
        "def vectorize_sequences(sequences,dimension=10000):\n",
        "  results=np.zeros((len(sequences),dimension))\n",
        "  for i,sequence in enumerate(sequences):\n",
        "    results[i,sequence]=1.\n",
        "  return results\n",
        "\n",
        "x_train=vectorize_sequences(train_data)\n",
        "x_test=vectorize_sequences(test_data)"
      ],
      "metadata": {
        "id": "9Yd1b-ftl8C6"
      },
      "execution_count": null,
      "outputs": []
    },
    {
      "cell_type": "code",
      "source": [
        "from keras.utils.np_utils import to_categorical\n",
        "one_hot_train_labels=to_categorical(train_labels)\n",
        "one_hot_test_labels=to_categorical(test_labels)"
      ],
      "metadata": {
        "id": "v_rLw30GoBWC"
      },
      "execution_count": null,
      "outputs": []
    },
    {
      "cell_type": "markdown",
      "source": [
        "## 모델 구성"
      ],
      "metadata": {
        "id": "fsjz-I0noPdf"
      }
    },
    {
      "cell_type": "code",
      "source": [
        "#모델 정의\n",
        "\n",
        "from keras import models\n",
        "from keras import layers\n",
        "\n",
        "model=models.Sequential()\n",
        "model.add(layers.Dense(64,activation='relu',input_shape=(10000,)))\n",
        "model.add(layers.Dense(64,activation='relu'))\n",
        "model.add(layers.Dense(46,activation='softmax'))"
      ],
      "metadata": {
        "id": "Esm2lwNvoQJJ"
      },
      "execution_count": null,
      "outputs": []
    },
    {
      "cell_type": "code",
      "source": [
        "model.compile(optimizer='rmsprop',\n",
        "              loss='categorical_crossentropy',\n",
        "              metrics=['accuracy'])"
      ],
      "metadata": {
        "id": "mybiGT-oqpmc"
      },
      "execution_count": null,
      "outputs": []
    },
    {
      "cell_type": "markdown",
      "source": [
        "## 훈련검증\n",
        "\n",
        "훈련데이터에서 1000개의 샘플을 따로 떼어서 검증 세트로 사용하겠다."
      ],
      "metadata": {
        "id": "qX3qTmGTOt8L"
      }
    },
    {
      "cell_type": "code",
      "source": [
        "x_val=x_train[:1000]\n",
        "partial_x_train=x_train[1000:]\n",
        "\n",
        "y_val=one_hot_train_labels[:1000]\n",
        "partial_y_train=one_hot_train_labels[1000:]"
      ],
      "metadata": {
        "id": "3tH7aN73sZb4"
      },
      "execution_count": null,
      "outputs": []
    },
    {
      "cell_type": "code",
      "source": [
        "history=model.fit(partial_x_train,\n",
        "                  partial_y_train,\n",
        "                  epochs=20,\n",
        "                  batch_size=512,\n",
        "                  validation_data=(x_val,y_val))"
      ],
      "metadata": {
        "colab": {
          "base_uri": "https://localhost:8080/"
        },
        "id": "FeWA3hQJPR3y",
        "outputId": "719ec242-cde0-4208-8ab6-f26155cc7af0"
      },
      "execution_count": null,
      "outputs": [
        {
          "output_type": "stream",
          "name": "stdout",
          "text": [
            "Epoch 1/20\n",
            "16/16 [==============================] - 2s 63ms/step - loss: 2.5310 - accuracy: 0.4853 - val_loss: 1.6923 - val_accuracy: 0.6350\n",
            "Epoch 2/20\n",
            "16/16 [==============================] - 1s 48ms/step - loss: 1.4101 - accuracy: 0.7015 - val_loss: 1.3290 - val_accuracy: 0.7020\n",
            "Epoch 3/20\n",
            "16/16 [==============================] - 1s 47ms/step - loss: 1.0682 - accuracy: 0.7626 - val_loss: 1.1628 - val_accuracy: 0.7300\n",
            "Epoch 4/20\n",
            "16/16 [==============================] - 1s 48ms/step - loss: 0.8511 - accuracy: 0.8136 - val_loss: 1.0654 - val_accuracy: 0.7600\n",
            "Epoch 5/20\n",
            "16/16 [==============================] - 1s 48ms/step - loss: 0.6775 - accuracy: 0.8550 - val_loss: 0.9963 - val_accuracy: 0.7930\n",
            "Epoch 6/20\n",
            "16/16 [==============================] - 1s 48ms/step - loss: 0.5457 - accuracy: 0.8855 - val_loss: 0.9425 - val_accuracy: 0.8050\n",
            "Epoch 7/20\n",
            "16/16 [==============================] - 1s 48ms/step - loss: 0.4352 - accuracy: 0.9112 - val_loss: 0.9517 - val_accuracy: 0.7860\n",
            "Epoch 8/20\n",
            "16/16 [==============================] - 1s 48ms/step - loss: 0.3539 - accuracy: 0.9271 - val_loss: 0.8978 - val_accuracy: 0.8070\n",
            "Epoch 9/20\n",
            "16/16 [==============================] - 1s 46ms/step - loss: 0.2908 - accuracy: 0.9391 - val_loss: 0.9162 - val_accuracy: 0.8070\n",
            "Epoch 10/20\n",
            "16/16 [==============================] - 1s 47ms/step - loss: 0.2450 - accuracy: 0.9463 - val_loss: 0.8931 - val_accuracy: 0.8170\n",
            "Epoch 11/20\n",
            "16/16 [==============================] - 1s 47ms/step - loss: 0.2113 - accuracy: 0.9486 - val_loss: 0.9184 - val_accuracy: 0.8180\n",
            "Epoch 12/20\n",
            "16/16 [==============================] - 1s 49ms/step - loss: 0.1903 - accuracy: 0.9509 - val_loss: 0.9586 - val_accuracy: 0.8020\n",
            "Epoch 13/20\n",
            "16/16 [==============================] - 1s 47ms/step - loss: 0.1646 - accuracy: 0.9549 - val_loss: 0.9880 - val_accuracy: 0.7930\n",
            "Epoch 14/20\n",
            "16/16 [==============================] - 1s 47ms/step - loss: 0.1529 - accuracy: 0.9550 - val_loss: 0.9524 - val_accuracy: 0.8100\n",
            "Epoch 15/20\n",
            "16/16 [==============================] - 1s 48ms/step - loss: 0.1393 - accuracy: 0.9546 - val_loss: 1.0197 - val_accuracy: 0.8000\n",
            "Epoch 16/20\n",
            "16/16 [==============================] - 1s 47ms/step - loss: 0.1281 - accuracy: 0.9574 - val_loss: 1.0008 - val_accuracy: 0.8250\n",
            "Epoch 17/20\n",
            "16/16 [==============================] - 1s 46ms/step - loss: 0.1275 - accuracy: 0.9568 - val_loss: 1.0440 - val_accuracy: 0.7960\n",
            "Epoch 18/20\n",
            "16/16 [==============================] - 1s 48ms/step - loss: 0.1216 - accuracy: 0.9559 - val_loss: 1.0854 - val_accuracy: 0.7880\n",
            "Epoch 19/20\n",
            "16/16 [==============================] - 1s 50ms/step - loss: 0.1138 - accuracy: 0.9585 - val_loss: 1.0802 - val_accuracy: 0.8010\n",
            "Epoch 20/20\n",
            "16/16 [==============================] - 1s 46ms/step - loss: 0.1109 - accuracy: 0.9582 - val_loss: 1.1146 - val_accuracy: 0.7920\n"
          ]
        }
      ]
    },
    {
      "cell_type": "code",
      "source": [
        "history"
      ],
      "metadata": {
        "colab": {
          "base_uri": "https://localhost:8080/"
        },
        "id": "7LUYQdo2QDAf",
        "outputId": "1c12b778-2c95-451c-9089-1ebdaa9e9071"
      },
      "execution_count": null,
      "outputs": [
        {
          "output_type": "execute_result",
          "data": {
            "text/plain": [
              "<keras.callbacks.History at 0x7f1a526cb210>"
            ]
          },
          "metadata": {},
          "execution_count": 11
        }
      ]
    },
    {
      "cell_type": "code",
      "source": [
        "#손실과 정확도 곡선그리기\n",
        "import matplotlib.pyplot as plt\n",
        "\n",
        "loss=history.history['loss']\n",
        "val_loss=history.history['val_loss']\n",
        "\n",
        "epochs=range(1,len(loss)+1)\n",
        "\n",
        "plt.plot(epochs,loss,'bo',label='Training loss')\n",
        "plt.plot(epochs,val_loss,'b',label='Validation loss')\n",
        "plt.title('Training and validation loss')\n",
        "plt.xlabel('Epochs')\n",
        "plt.ylabel('Loss')\n",
        "plt.legend()\n",
        "\n",
        "plt.show()"
      ],
      "metadata": {
        "colab": {
          "base_uri": "https://localhost:8080/",
          "height": 295
        },
        "id": "qFGTnf4KPisU",
        "outputId": "c92c7d12-1bd2-40a9-fe24-67e82350f03b"
      },
      "execution_count": null,
      "outputs": [
        {
          "output_type": "display_data",
          "data": {
            "image/png": "[encoded data removed]",
            "text/plain": [
              "<Figure size 432x288 with 1 Axes>"
            ]
          },
          "metadata": {
            "needs_background": "light"
          }
        }
      ]
    },
    {
      "cell_type": "code",
      "source": [
        "plt.clf()\n",
        "\n",
        "acc=history.history['accuracy']\n",
        "val_acc=history.history['val_accuracy']\n",
        "\n",
        "plt.plot(epochs,acc,'bo',label='Training acc')\n",
        "plt.plot(epochs,val_acc,'b',label='validation acc')\n",
        "plt.title('Training and validation accuracy')\n",
        "plt.xlabel('Epochs')\n",
        "plt.ylabel('Accuracy')\n",
        "plt.legend()\n",
        "\n",
        "plt.show()"
      ],
      "metadata": {
        "colab": {
          "base_uri": "https://localhost:8080/",
          "height": 295
        },
        "id": "ZtOOtWyQQ1Q1",
        "outputId": "e0fbe33f-807a-4ecc-c72b-9ad88309efa5"
      },
      "execution_count": null,
      "outputs": [
        {
          "output_type": "display_data",
          "data": {
            "image/png": "[encoded data removed]",
            "text/plain": [
              "<Figure size 432x288 with 1 Axes>"
            ]
          },
          "metadata": {
            "needs_background": "light"
          }
        }
      ]
    },
    {
      "cell_type": "code",
      "source": [
        "history_dict=history.history\n",
        "history_dict.keys()\n"
      ],
      "metadata": {
        "colab": {
          "base_uri": "https://localhost:8080/"
        },
        "id": "lCpLVtpyT4xU",
        "outputId": "60138944-e6ac-4dce-e3f9-d554d6ea6f7c"
      },
      "execution_count": null,
      "outputs": [
        {
          "output_type": "execute_result",
          "data": {
            "text/plain": [
              "dict_keys(['loss', 'accuracy', 'val_loss', 'val_accuracy'])"
            ]
          },
          "metadata": {},
          "execution_count": 14
        }
      ]
    },
    {
      "cell_type": "code",
      "source": [
        "model=models.Sequential()\n",
        "model.add(layers.Dense(64,activation='relu',input_shape=(10000,)))\n",
        "model.add(layers.Dense(64,activation='relu'))\n",
        "model.add(layers.Dense(46,activation='softmax'))\n",
        "\n",
        "model.compile(optimizer='rmsprop',\n",
        "              loss='categorical_crossentropy',\n",
        "              metrics=['accuracy'])\n",
        "\n",
        "model.fit(partial_x_train,\n",
        "          partial_y_train,\n",
        "          epochs=9,\n",
        "          batch_size=512,\n",
        "          validation_data=(x_val,y_val))\n",
        "\n",
        "results=model.evaluate(x_test,one_hot_test_labels)"
      ],
      "metadata": {
        "colab": {
          "base_uri": "https://localhost:8080/"
        },
        "id": "ys9Y1SzoRkJ3",
        "outputId": "7ed8c794-895d-4862-9c0c-416cb531fc29"
      },
      "execution_count": null,
      "outputs": [
        {
          "output_type": "stream",
          "name": "stdout",
          "text": [
            "Epoch 1/9\n",
            "16/16 [==============================] - 1s 58ms/step - loss: 2.6369 - accuracy: 0.5157 - val_loss: 1.7837 - val_accuracy: 0.6430\n",
            "Epoch 2/9\n",
            "16/16 [==============================] - 1s 46ms/step - loss: 1.4621 - accuracy: 0.6928 - val_loss: 1.3346 - val_accuracy: 0.7120\n",
            "Epoch 3/9\n",
            "16/16 [==============================] - 1s 47ms/step - loss: 1.0888 - accuracy: 0.7695 - val_loss: 1.1570 - val_accuracy: 0.7640\n",
            "Epoch 4/9\n",
            "16/16 [==============================] - 1s 47ms/step - loss: 0.8603 - accuracy: 0.8224 - val_loss: 1.0429 - val_accuracy: 0.7790\n",
            "Epoch 5/9\n",
            "16/16 [==============================] - 1s 47ms/step - loss: 0.6917 - accuracy: 0.8542 - val_loss: 0.9689 - val_accuracy: 0.8010\n",
            "Epoch 6/9\n",
            "16/16 [==============================] - 1s 47ms/step - loss: 0.5597 - accuracy: 0.8882 - val_loss: 0.9239 - val_accuracy: 0.8060\n",
            "Epoch 7/9\n",
            "16/16 [==============================] - 1s 48ms/step - loss: 0.4514 - accuracy: 0.9079 - val_loss: 0.9005 - val_accuracy: 0.8170\n",
            "Epoch 8/9\n",
            "16/16 [==============================] - 1s 48ms/step - loss: 0.3673 - accuracy: 0.9263 - val_loss: 0.8714 - val_accuracy: 0.8200\n",
            "Epoch 9/9\n",
            "16/16 [==============================] - 1s 47ms/step - loss: 0.3067 - accuracy: 0.9349 - val_loss: 0.8785 - val_accuracy: 0.8200\n",
            "71/71 [==============================] - 0s 3ms/step - loss: 0.9780 - accuracy: 0.7854\n"
          ]
        }
      ]
    },
    {
      "cell_type": "code",
      "source": [
        "results"
      ],
      "metadata": {
        "colab": {
          "base_uri": "https://localhost:8080/"
        },
        "id": "feQnzFTTT55K",
        "outputId": "2f0ed27d-8b76-414d-b4df-1adc70670612"
      },
      "execution_count": null,
      "outputs": [
        {
          "output_type": "execute_result",
          "data": {
            "text/plain": [
              "[0.9779915809631348, 0.7853962779045105]"
            ]
          },
          "metadata": {},
          "execution_count": 16
        }
      ]
    },
    {
      "cell_type": "code",
      "source": [
        "predictions=model.predict(x_test)"
      ],
      "metadata": {
        "id": "dwPI8lStUn8b"
      },
      "execution_count": null,
      "outputs": []
    },
    {
      "cell_type": "code",
      "source": [
        "#predictions의 각 항목은 길이가 46인 벡터이다\n",
        "predictions[0].shape"
      ],
      "metadata": {
        "colab": {
          "base_uri": "https://localhost:8080/"
        },
        "id": "1ZuY4oGKUqPr",
        "outputId": "3fb39968-c3af-48e7-9967-fa2b9392ca5d"
      },
      "execution_count": null,
      "outputs": [
        {
          "output_type": "execute_result",
          "data": {
            "text/plain": [
              "(46,)"
            ]
          },
          "metadata": {},
          "execution_count": 18
        }
      ]
    },
    {
      "cell_type": "code",
      "source": [
        "np.sum(predictions[0])#원소합이 1이여야 하는데...;"
      ],
      "metadata": {
        "colab": {
          "base_uri": "https://localhost:8080/"
        },
        "id": "-eyjNDZoUuwX",
        "outputId": "d3a14c30-9cb3-466a-ed4f-0688def40004"
      },
      "execution_count": null,
      "outputs": [
        {
          "output_type": "execute_result",
          "data": {
            "text/plain": [
              "1.0"
            ]
          },
          "metadata": {},
          "execution_count": 19
        }
      ]
    },
    {
      "cell_type": "code",
      "source": [
        "#가장 큰 값이 예측 클래스가 된다. 즉 가장 확률이 높은 클래스이다. \n",
        "np.argmax(predictions[0])"
      ],
      "metadata": {
        "colab": {
          "base_uri": "https://localhost:8080/"
        },
        "id": "gJPNUnNaUx2X",
        "outputId": "cdc97c8f-e90d-4612-ab12-867b321c5b2b"
      },
      "execution_count": null,
      "outputs": [
        {
          "output_type": "execute_result",
          "data": {
            "text/plain": [
              "3"
            ]
          },
          "metadata": {},
          "execution_count": 20
        }
      ]
    },
    {
      "cell_type": "markdown",
      "source": [
        "## 레이블과 손실을 다루는 다른 방법"
      ],
      "metadata": {
        "id": "GKyy2yD1D8YO"
      }
    },
    {
      "cell_type": "code",
      "source": [
        "y_train=np.array(train_labels)\n",
        "y_test=np.array(test_labels)"
      ],
      "metadata": {
        "id": "_0vGMz0pUzSI"
      },
      "execution_count": null,
      "outputs": []
    },
    {
      "cell_type": "code",
      "source": [
        "model.compile(optimizer='rmsprop',\n",
        "              loss='sparse_categorical_crossentropy',\n",
        "              metrics=['acc'])"
      ],
      "metadata": {
        "id": "5zHUHKdgEBaY"
      },
      "execution_count": null,
      "outputs": []
    },
    {
      "cell_type": "markdown",
      "source": [
        "## 충분히 큰 중간층을 두어야 하는 이유"
      ],
      "metadata": {
        "id": "o2ZpkdSXFp4x"
      }
    },
    {
      "cell_type": "code",
      "source": [
        "model=models.Sequential()\n",
        "model.add(layers.Dense(64,activation='relu',input_shape=(10000,)))\n",
        "model.add(layers.Dense(4,activation='relu'))\n",
        "model.add(layers.Dense(46,activation='softmax'))\n",
        "\n",
        "model.compile(optimizer='rmsprop',\n",
        "              loss='categorical_crossentropy',\n",
        "              metrics=['accuracy'])"
      ],
      "metadata": {
        "id": "084uGLCVEpoL"
      },
      "execution_count": null,
      "outputs": []
    },
    {
      "cell_type": "code",
      "source": [
        "model.fit(partial_x_train,\n",
        "          partial_y_train,\n",
        "          epochs=20,\n",
        "          batch_size=128,\n",
        "          validation_data=(x_val,y_val))"
      ],
      "metadata": {
        "colab": {
          "base_uri": "https://localhost:8080/"
        },
        "id": "NvHxMu5gF9se",
        "outputId": "7513dbec-81e0-404a-a153-e8ccf5741023"
      },
      "execution_count": null,
      "outputs": [
        {
          "output_type": "stream",
          "name": "stdout",
          "text": [
            "Epoch 1/20\n",
            "63/63 [==============================] - 2s 19ms/step - loss: 3.3483 - accuracy: 0.3914 - val_loss: 2.9179 - val_accuracy: 0.6290\n",
            "Epoch 2/20\n",
            "63/63 [==============================] - 1s 17ms/step - loss: 2.6407 - accuracy: 0.6344 - val_loss: 2.5559 - val_accuracy: 0.6360\n",
            "Epoch 3/20\n",
            "63/63 [==============================] - 1s 16ms/step - loss: 2.3155 - accuracy: 0.4956 - val_loss: 2.3711 - val_accuracy: 0.3920\n",
            "Epoch 4/20\n",
            "63/63 [==============================] - 1s 17ms/step - loss: 2.0178 - accuracy: 0.4090 - val_loss: 2.0665 - val_accuracy: 0.3860\n",
            "Epoch 5/20\n",
            "63/63 [==============================] - 1s 16ms/step - loss: 1.4955 - accuracy: 0.6016 - val_loss: 1.4712 - val_accuracy: 0.6930\n",
            "Epoch 6/20\n",
            "63/63 [==============================] - 1s 16ms/step - loss: 1.0173 - accuracy: 0.7575 - val_loss: 1.2952 - val_accuracy: 0.7100\n",
            "Epoch 7/20\n",
            "63/63 [==============================] - 1s 17ms/step - loss: 0.8903 - accuracy: 0.7803 - val_loss: 1.2786 - val_accuracy: 0.7110\n",
            "Epoch 8/20\n",
            "63/63 [==============================] - 1s 16ms/step - loss: 0.8162 - accuracy: 0.7935 - val_loss: 1.2785 - val_accuracy: 0.7130\n",
            "Epoch 9/20\n",
            "63/63 [==============================] - 1s 16ms/step - loss: 0.7566 - accuracy: 0.8036 - val_loss: 1.2839 - val_accuracy: 0.7100\n",
            "Epoch 10/20\n",
            "63/63 [==============================] - 1s 16ms/step - loss: 0.7041 - accuracy: 0.8116 - val_loss: 1.3126 - val_accuracy: 0.7140\n",
            "Epoch 11/20\n",
            "63/63 [==============================] - 1s 17ms/step - loss: 0.6601 - accuracy: 0.8225 - val_loss: 1.3153 - val_accuracy: 0.7160\n",
            "Epoch 12/20\n",
            "63/63 [==============================] - 1s 18ms/step - loss: 0.6221 - accuracy: 0.8309 - val_loss: 1.3438 - val_accuracy: 0.7240\n",
            "Epoch 13/20\n",
            "63/63 [==============================] - 1s 18ms/step - loss: 0.5824 - accuracy: 0.8398 - val_loss: 1.4347 - val_accuracy: 0.7270\n",
            "Epoch 14/20\n",
            "63/63 [==============================] - 1s 17ms/step - loss: 0.5537 - accuracy: 0.8497 - val_loss: 1.4071 - val_accuracy: 0.7240\n",
            "Epoch 15/20\n",
            "63/63 [==============================] - 1s 17ms/step - loss: 0.5221 - accuracy: 0.8593 - val_loss: 1.4628 - val_accuracy: 0.7250\n",
            "Epoch 16/20\n",
            "63/63 [==============================] - 1s 18ms/step - loss: 0.4951 - accuracy: 0.8651 - val_loss: 1.5535 - val_accuracy: 0.7090\n",
            "Epoch 17/20\n",
            "63/63 [==============================] - 1s 17ms/step - loss: 0.4711 - accuracy: 0.8683 - val_loss: 1.5431 - val_accuracy: 0.7210\n",
            "Epoch 18/20\n",
            "63/63 [==============================] - 1s 17ms/step - loss: 0.4517 - accuracy: 0.8733 - val_loss: 1.5967 - val_accuracy: 0.7220\n",
            "Epoch 19/20\n",
            "63/63 [==============================] - 1s 17ms/step - loss: 0.4309 - accuracy: 0.8787 - val_loss: 1.6980 - val_accuracy: 0.7180\n",
            "Epoch 20/20\n",
            "63/63 [==============================] - 1s 17ms/step - loss: 0.4143 - accuracy: 0.8819 - val_loss: 1.7377 - val_accuracy: 0.7240\n"
          ]
        },
        {
          "output_type": "execute_result",
          "data": {
            "text/plain": [
              "<keras.callbacks.History at 0x7f1a53de4090>"
            ]
          },
          "metadata": {},
          "execution_count": 24
        }
      ]
    },
    {
      "cell_type": "markdown",
      "source": [
        "## 주택 가격 예측 : 회귀 문제\n"
      ],
      "metadata": {
        "id": "UeMb96anG9XX"
      }
    },
    {
      "cell_type": "markdown",
      "source": [
        "### 보스턴 주택 가격 데이터셋"
      ],
      "metadata": {
        "id": "YRRTc3YrHDJs"
      }
    },
    {
      "cell_type": "code",
      "source": [
        "from keras.datasets import boston_housing\n",
        "\n",
        "(train_data,train_targets),(test_data,test_targets)=boston_housing.load_data()"
      ],
      "metadata": {
        "id": "qyzjTg7DGGTo"
      },
      "execution_count": 15,
      "outputs": []
    },
    {
      "cell_type": "code",
      "source": [
        "train_data.shape"
      ],
      "metadata": {
        "colab": {
          "base_uri": "https://localhost:8080/"
        },
        "id": "13bVqfgcHQiP",
        "outputId": "9be8949a-79cb-4b7f-c013-ec7627ce7e1b"
      },
      "execution_count": 5,
      "outputs": [
        {
          "output_type": "execute_result",
          "data": {
            "text/plain": [
              "(404, 13)"
            ]
          },
          "metadata": {},
          "execution_count": 5
        }
      ]
    },
    {
      "cell_type": "code",
      "source": [
        "test_data.shape"
      ],
      "metadata": {
        "colab": {
          "base_uri": "https://localhost:8080/"
        },
        "id": "8c0C5vqbHo21",
        "outputId": "c2ce9085-7545-40ba-9472-ca6cc2969f35"
      },
      "execution_count": 6,
      "outputs": [
        {
          "output_type": "execute_result",
          "data": {
            "text/plain": [
              "(102, 13)"
            ]
          },
          "metadata": {},
          "execution_count": 6
        }
      ]
    },
    {
      "cell_type": "code",
      "source": [
        "train_targets"
      ],
      "metadata": {
        "colab": {
          "base_uri": "https://localhost:8080/"
        },
        "id": "kZ2O-NR0HwER",
        "outputId": "ec88ae5d-8134-42f5-a8b7-3b16e1e2bc0a"
      },
      "execution_count": 7,
      "outputs": [
        {
          "output_type": "execute_result",
          "data": {
            "text/plain": [
              "array([15.2, 42.3, 50. , 21.1, 17.7, 18.5, 11.3, 15.6, 15.6, 14.4, 12.1,\n",
              "       17.9, 23.1, 19.9, 15.7,  8.8, 50. , 22.5, 24.1, 27.5, 10.9, 30.8,\n",
              "       32.9, 24. , 18.5, 13.3, 22.9, 34.7, 16.6, 17.5, 22.3, 16.1, 14.9,\n",
              "       23.1, 34.9, 25. , 13.9, 13.1, 20.4, 20. , 15.2, 24.7, 22.2, 16.7,\n",
              "       12.7, 15.6, 18.4, 21. , 30.1, 15.1, 18.7,  9.6, 31.5, 24.8, 19.1,\n",
              "       22. , 14.5, 11. , 32. , 29.4, 20.3, 24.4, 14.6, 19.5, 14.1, 14.3,\n",
              "       15.6, 10.5,  6.3, 19.3, 19.3, 13.4, 36.4, 17.8, 13.5, 16.5,  8.3,\n",
              "       14.3, 16. , 13.4, 28.6, 43.5, 20.2, 22. , 23. , 20.7, 12.5, 48.5,\n",
              "       14.6, 13.4, 23.7, 50. , 21.7, 39.8, 38.7, 22.2, 34.9, 22.5, 31.1,\n",
              "       28.7, 46. , 41.7, 21. , 26.6, 15. , 24.4, 13.3, 21.2, 11.7, 21.7,\n",
              "       19.4, 50. , 22.8, 19.7, 24.7, 36.2, 14.2, 18.9, 18.3, 20.6, 24.6,\n",
              "       18.2,  8.7, 44. , 10.4, 13.2, 21.2, 37. , 30.7, 22.9, 20. , 19.3,\n",
              "       31.7, 32. , 23.1, 18.8, 10.9, 50. , 19.6,  5. , 14.4, 19.8, 13.8,\n",
              "       19.6, 23.9, 24.5, 25. , 19.9, 17.2, 24.6, 13.5, 26.6, 21.4, 11.9,\n",
              "       22.6, 19.6,  8.5, 23.7, 23.1, 22.4, 20.5, 23.6, 18.4, 35.2, 23.1,\n",
              "       27.9, 20.6, 23.7, 28. , 13.6, 27.1, 23.6, 20.6, 18.2, 21.7, 17.1,\n",
              "        8.4, 25.3, 13.8, 22.2, 18.4, 20.7, 31.6, 30.5, 20.3,  8.8, 19.2,\n",
              "       19.4, 23.1, 23. , 14.8, 48.8, 22.6, 33.4, 21.1, 13.6, 32.2, 13.1,\n",
              "       23.4, 18.9, 23.9, 11.8, 23.3, 22.8, 19.6, 16.7, 13.4, 22.2, 20.4,\n",
              "       21.8, 26.4, 14.9, 24.1, 23.8, 12.3, 29.1, 21. , 19.5, 23.3, 23.8,\n",
              "       17.8, 11.5, 21.7, 19.9, 25. , 33.4, 28.5, 21.4, 24.3, 27.5, 33.1,\n",
              "       16.2, 23.3, 48.3, 22.9, 22.8, 13.1, 12.7, 22.6, 15. , 15.3, 10.5,\n",
              "       24. , 18.5, 21.7, 19.5, 33.2, 23.2,  5. , 19.1, 12.7, 22.3, 10.2,\n",
              "       13.9, 16.3, 17. , 20.1, 29.9, 17.2, 37.3, 45.4, 17.8, 23.2, 29. ,\n",
              "       22. , 18. , 17.4, 34.6, 20.1, 25. , 15.6, 24.8, 28.2, 21.2, 21.4,\n",
              "       23.8, 31. , 26.2, 17.4, 37.9, 17.5, 20. ,  8.3, 23.9,  8.4, 13.8,\n",
              "        7.2, 11.7, 17.1, 21.6, 50. , 16.1, 20.4, 20.6, 21.4, 20.6, 36.5,\n",
              "        8.5, 24.8, 10.8, 21.9, 17.3, 18.9, 36.2, 14.9, 18.2, 33.3, 21.8,\n",
              "       19.7, 31.6, 24.8, 19.4, 22.8,  7.5, 44.8, 16.8, 18.7, 50. , 50. ,\n",
              "       19.5, 20.1, 50. , 17.2, 20.8, 19.3, 41.3, 20.4, 20.5, 13.8, 16.5,\n",
              "       23.9, 20.6, 31.5, 23.3, 16.8, 14. , 33.8, 36.1, 12.8, 18.3, 18.7,\n",
              "       19.1, 29. , 30.1, 50. , 50. , 22. , 11.9, 37.6, 50. , 22.7, 20.8,\n",
              "       23.5, 27.9, 50. , 19.3, 23.9, 22.6, 15.2, 21.7, 19.2, 43.8, 20.3,\n",
              "       33.2, 19.9, 22.5, 32.7, 22. , 17.1, 19. , 15. , 16.1, 25.1, 23.7,\n",
              "       28.7, 37.2, 22.6, 16.4, 25. , 29.8, 22.1, 17.4, 18.1, 30.3, 17.5,\n",
              "       24.7, 12.6, 26.5, 28.7, 13.3, 10.4, 24.4, 23. , 20. , 17.8,  7. ,\n",
              "       11.8, 24.4, 13.8, 19.4, 25.2, 19.4, 19.4, 29.1])"
            ]
          },
          "metadata": {},
          "execution_count": 7
        }
      ]
    },
    {
      "cell_type": "markdown",
      "source": [
        "### 데이터 준비"
      ],
      "metadata": {
        "id": "s-xztERdHysN"
      }
    },
    {
      "cell_type": "code",
      "source": [
        "#데이터 정규화하기\n",
        "\n",
        "mean=train_data.mean(axis=0)\n",
        "train_data-=mean\n",
        "std=train_data.std(axis=0)\n",
        "train_data/=std\n",
        "\n",
        "test_data-=mean\n",
        "test_data/=std"
      ],
      "metadata": {
        "id": "v-SyqV1IHxfi"
      },
      "execution_count": 16,
      "outputs": []
    },
    {
      "cell_type": "markdown",
      "source": [
        "### 모델구성"
      ],
      "metadata": {
        "id": "VO2yVtKiI8ky"
      }
    },
    {
      "cell_type": "code",
      "source": [
        "from keras import models\n",
        "from keras import layers\n",
        "\n",
        "def build_model():\n",
        "    # 동일한 모델을 여러 번 생성할 것이므로 함수를 만들어 사용합니다\n",
        "    model = models.Sequential()\n",
        "    model.add(layers.Dense(64, activation='relu',\n",
        "                           input_shape=(train_data.shape[1],)))\n",
        "    model.add(layers.Dense(64, activation='relu'))\n",
        "    model.add(layers.Dense(1))\n",
        "    model.compile(optimizer='rmsprop', loss='mse', metrics=['mae'])\n",
        "    return model"
      ],
      "metadata": {
        "id": "kbvBSoX8Ivn8"
      },
      "execution_count": 41,
      "outputs": []
    },
    {
      "cell_type": "markdown",
      "source": [
        "### K-겹 검증을 사용한 훈련검증"
      ],
      "metadata": {
        "id": "9fkWdUNYMTMN"
      }
    },
    {
      "cell_type": "code",
      "source": [
        "import numpy as np\n",
        "k=4\n",
        "\n",
        "num_val_samples=len(train_data)//k\n",
        "num_epochs=100\n",
        "all_scores=[]\n",
        "\n",
        "for i in range(k):\n",
        "  print('처리중인 폴드 #',i)\n",
        "  val_data=train_data[i*num_val_samples:(i+1)*num_val_samples]\n",
        "  val_targets=train_targets[i*num_val_samples:(i+1)*num_val_samples]\n",
        "\n",
        "  partial_train_data=np.concatenate(## 훈련데이터 준비 : 다른 분할 전체\n",
        "      [train_data[:i*num_val_samples],\n",
        "       train_data[(i+1)*num_val_samples:]],\n",
        "       axis=0\n",
        "  )\n",
        "  partial_train_targets=np.concatenate(\n",
        "      [train_targets[:i*num_val_samples],\n",
        "       train_targets[(i+1)*num_val_samples:]],\n",
        "       axis=0\n",
        "  )\n",
        "\n",
        "  model=build_model()# 케라스 모델 구성(컴파일 포함)\n",
        "  model.fit(partial_train_data,partial_train_targets,#모델훈련(verbose=0이르모 훈련 과정이 출력되지 않는다.)\n",
        "            epochs=num_epochs,batch_size=1,verbose=0)\n",
        "  val_mse,val_mae=model.evaluate(val_data,val_targets,verbose=0)#검증세트로 모델 평가\n",
        "  all_scores.append(val_mae)"
      ],
      "metadata": {
        "colab": {
          "base_uri": "https://localhost:8080/"
        },
        "id": "U8BZdSkkJci1",
        "outputId": "a52a78d8-cf0b-442c-9c4b-9538a078546b"
      },
      "execution_count": 20,
      "outputs": [
        {
          "output_type": "stream",
          "name": "stdout",
          "text": [
            "처리중인 폴드 # 0\n",
            "처리중인 폴드 # 1\n",
            "처리중인 폴드 # 2\n",
            "처리중인 폴드 # 3\n"
          ]
        }
      ]
    },
    {
      "cell_type": "code",
      "source": [
        "all_scores"
      ],
      "metadata": {
        "colab": {
          "base_uri": "https://localhost:8080/"
        },
        "id": "RP54yNHBN_UR",
        "outputId": "4a9bb6a9-08ea-4bc7-ae15-c72a106c32e6"
      },
      "execution_count": 21,
      "outputs": [
        {
          "output_type": "execute_result",
          "data": {
            "text/plain": [
              "[2.313890218734741, 2.325404644012451, 2.8723976612091064, 2.4404067993164062]"
            ]
          },
          "metadata": {},
          "execution_count": 21
        }
      ]
    },
    {
      "cell_type": "code",
      "source": [
        "np.mean(all_scores)"
      ],
      "metadata": {
        "colab": {
          "base_uri": "https://localhost:8080/"
        },
        "id": "Egndz6YPPtCJ",
        "outputId": "62a37e3d-9a11-4e9c-b754-01c6c057bcbd"
      },
      "execution_count": 22,
      "outputs": [
        {
          "output_type": "execute_result",
          "data": {
            "text/plain": [
              "2.4880248308181763"
            ]
          },
          "metadata": {},
          "execution_count": 22
        }
      ]
    },
    {
      "cell_type": "code",
      "source": [
        "from keras import backend as K\n",
        "\n",
        "# 메모리 해제\n",
        "K.clear_session()"
      ],
      "metadata": {
        "id": "WOdAvdYpPu6I"
      },
      "execution_count": 23,
      "outputs": []
    },
    {
      "cell_type": "code",
      "source": [
        "num_epochs = 500\n",
        "all_mae_histories = []\n",
        "for i in range(k):\n",
        "    print('처리중인 폴드 #', i)\n",
        "    # 검증 데이터 준비: k번째 분할\n",
        "    val_data = train_data[i * num_val_samples: (i + 1) * num_val_samples]\n",
        "    val_targets = train_targets[i * num_val_samples: (i + 1) * num_val_samples]\n",
        "\n",
        "    # 훈련 데이터 준비: 다른 분할 전체\n",
        "    partial_train_data = np.concatenate(\n",
        "        [train_data[:i * num_val_samples],\n",
        "         train_data[(i + 1) * num_val_samples:]],\n",
        "        axis=0)\n",
        "    partial_train_targets = np.concatenate(\n",
        "        [train_targets[:i * num_val_samples],\n",
        "         train_targets[(i + 1) * num_val_samples:]],\n",
        "        axis=0)\n",
        "\n",
        "    # 케라스 모델 구성(컴파일 포함)\n",
        "    model = build_model()\n",
        "    # 모델 훈련(verbose=0 이므로 훈련 과정이 출력되지 않습니다)\n",
        "    history = model.fit(partial_train_data, partial_train_targets,\n",
        "                        validation_data=(val_data, val_targets),\n",
        "                        epochs=num_epochs, batch_size=1, verbose=0)\n",
        "    mae_history = history.history[\"mae\"]\n",
        "    all_mae_histories.append(mae_history)"
      ],
      "metadata": {
        "colab": {
          "base_uri": "https://localhost:8080/"
        },
        "id": "ZtEl3a2sQfU8",
        "outputId": "f6a7b529-ede3-4bfc-eb12-9c19ce9ae1d0"
      },
      "execution_count": 42,
      "outputs": [
        {
          "output_type": "stream",
          "name": "stdout",
          "text": [
            "처리중인 폴드 # 0\n",
            "처리중인 폴드 # 1\n",
            "처리중인 폴드 # 2\n",
            "처리중인 폴드 # 3\n"
          ]
        }
      ]
    },
    {
      "cell_type": "code",
      "source": [
        "average_mae_history=[\n",
        "                     np.mean([x[i] for x in all_mae_histories]) for i in range(num_epochs)\n",
        "]"
      ],
      "metadata": {
        "id": "MA5B83mTRjJH"
      },
      "execution_count": 43,
      "outputs": []
    },
    {
      "cell_type": "code",
      "source": [
        "import matplotlib.pyplot as plt\n",
        "\n",
        "plt.plot(range(1,len(average_mae_history)+1),average_mae_history)\n",
        "\n",
        "plt.xlabel('Epochs')\n",
        "plt.ylabel('Validation MAE')\n",
        "plt.show()"
      ],
      "metadata": {
        "colab": {
          "base_uri": "https://localhost:8080/",
          "height": 279
        },
        "id": "VzLci12mTcxY",
        "outputId": "2efc3d74-e105-4b23-9754-e36d5d683603"
      },
      "execution_count": 44,
      "outputs": [
        {
          "output_type": "display_data",
          "data": {
            "image/png": "[encoded data removed]",
            "text/plain": [
              "<Figure size 432x288 with 1 Axes>"
            ]
          },
          "metadata": {
            "needs_background": "light"
          }
        }
      ]
    },
    {
      "cell_type": "code",
      "source": [
        "def smooth_curve(points,factor=0.9):\n",
        "  smoothed_points=[]\n",
        "  for point in points:\n",
        "    if smoothed_points:\n",
        "      previous=smoothed_points[-1]\n",
        "      smoothed_points.append(previous*factor+point*(1-factor))\n",
        "    else:\n",
        "      smoothed_points.append(point)\n",
        "  return smoothed_points\n",
        "\n",
        "smooth_mae_history=smooth_curve(average_mae_history[10:])\n",
        "\n",
        "plt.plot(range(1,len(smooth_mae_history)+1),smooth_mae_history)\n",
        "plt.xlabel('Epochs')\n",
        "plt.ylabel('Validation Mae')\n",
        "plt.show()"
      ],
      "metadata": {
        "colab": {
          "base_uri": "https://localhost:8080/",
          "height": 279
        },
        "id": "rpo9nrzyTo7s",
        "outputId": "a681ecd0-9af1-49b1-dffb-ee36151dd13f"
      },
      "execution_count": 46,
      "outputs": [
        {
          "output_type": "display_data",
          "data": {
            "image/png": "[encoded data removed]",
            "text/plain": [
              "<Figure size 432x288 with 1 Axes>"
            ]
          },
          "metadata": {
            "needs_background": "light"
          }
        }
      ]
    },
    {
      "cell_type": "code",
      "source": [
        "model=build_model()\n",
        "model.fit(train_data,train_targets,epochs=80,batch_size=16,verbose=0)\n",
        "test_mse_score,test_mae_score=model.evaluate(test_data,test_targets)"
      ],
      "metadata": {
        "colab": {
          "base_uri": "https://localhost:8080/"
        },
        "id": "cRyaR7hDUhtn",
        "outputId": "e1ecafe8-d10b-4f1a-f174-80fa4565585a"
      },
      "execution_count": 47,
      "outputs": [
        {
          "output_type": "stream",
          "name": "stdout",
          "text": [
            "4/4 [==============================] - 0s 3ms/step - loss: 18.2132 - mae: 2.7852\n"
          ]
        }
      ]
    },
    {
      "cell_type": "code",
      "source": [
        "test_mae_score\n"
      ],
      "metadata": {
        "colab": {
          "base_uri": "https://localhost:8080/"
        },
        "id": "TtKsioGTWgte",
        "outputId": "65e51ab1-c652-4c1a-a684-95a4e3c781ce"
      },
      "execution_count": 48,
      "outputs": [
        {
          "output_type": "execute_result",
          "data": {
            "text/plain": [
              "2.7851555347442627"
            ]
          },
          "metadata": {},
          "execution_count": 48
        }
      ]
    },
    {
      "cell_type": "code",
      "source": [
        ""
      ],
      "metadata": {
        "id": "1ubmFnHEdXn_"
      },
      "execution_count": null,
      "outputs": []
    }
  ]
}